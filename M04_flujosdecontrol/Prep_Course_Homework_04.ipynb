{
 "cells": [
  {
   "attachments": {},
   "cell_type": "markdown",
   "metadata": {},
   "source": [
    "## Flujos de Control"
   ]
  },
  {
   "attachments": {},
   "cell_type": "markdown",
   "metadata": {},
   "source": [
    "1) Crear una variable que contenga un elemento del conjunto de números enteros y luego imprimir por pantalla si es mayor o menor a cero"
   ]
  },
  {
   "cell_type": "code",
   "execution_count": 5,
   "metadata": {},
   "outputs": [
    {
     "name": "stdout",
     "output_type": "stream",
     "text": [
      "ne es mayor que cero\n"
     ]
    }
   ],
   "source": [
    "ne=10\n",
    "\n",
    "if ne < 0:\n",
    "    print('La variable es menor a cero')\n",
    "elif ne > 0:\n",
    "    print('ne es mayor que cero')\n",
    "else:\n",
    "    print('ne es igual a cero')\n",
    "    "
   ]
  },
  {
   "attachments": {},
   "cell_type": "markdown",
   "metadata": {},
   "source": [
    "2) Crear dos variables y un condicional que informe si son del mismo tipo de dato"
   ]
  },
  {
   "cell_type": "code",
   "execution_count": 6,
   "metadata": {},
   "outputs": [
    {
     "name": "stdout",
     "output_type": "stream",
     "text": [
      "v1 y v2 son de tipos de datos diferentes\n"
     ]
    }
   ],
   "source": [
    "v1= 11\n",
    "v2= 'car'\n",
    "\n",
    "if type(v1) == type(v2):\n",
    "    print('v1 y v2 son del mismo tipo')\n",
    "else:\n",
    "    print('v1 y v2 son de tipos de datos diferentes')\n"
   ]
  },
  {
   "attachments": {},
   "cell_type": "markdown",
   "metadata": {},
   "source": [
    "3) Para los valores enteros del 1 al 20, imprimir por pantalla si es par o impar"
   ]
  },
  {
   "cell_type": "code",
   "execution_count": 29,
   "metadata": {},
   "outputs": [
    {
     "name": "stdout",
     "output_type": "stream",
     "text": [
      "Number: 1 The number is odd.\n",
      "Number: 2 The number is even.\n",
      "Number: 3 The number is odd.\n",
      "Number: 4 The number is even.\n",
      "Number: 5 The number is odd.\n",
      "Number: 6 The number is even.\n",
      "Number: 7 The number is odd.\n",
      "Number: 8 The number is even.\n",
      "Number: 9 The number is odd.\n",
      "Number: 10 The number is even.\n",
      "Number: 11 The number is odd.\n",
      "Number: 12 The number is even.\n",
      "Number: 13 The number is odd.\n",
      "Number: 14 The number is even.\n",
      "Number: 15 The number is odd.\n",
      "Number: 16 The number is even.\n",
      "Number: 17 The number is odd.\n",
      "Number: 18 The number is even.\n",
      "Number: 19 The number is odd.\n",
      "Number: 20 The number is even.\n"
     ]
    }
   ],
   "source": [
    "for i in range(1,21):\n",
    "    if i % 2 == 0:\n",
    "        print('Number:',i, 'The number is even.')\n",
    "    else:\n",
    "        print('Number:',i, 'The number is odd.')"
   ]
  },
  {
   "cell_type": "code",
   "execution_count": 28,
   "metadata": {},
   "outputs": [
    {
     "name": "stdout",
     "output_type": "stream",
     "text": [
      "Number: 1 The number is odd.\n",
      "Number: 2 The number is even.\n",
      "Number: 3 The number is odd.\n",
      "Number: 4 The number is even.\n",
      "Number: 5 The number is odd.\n",
      "Number: 6 The number is even.\n",
      "Number: 7 The number is odd.\n",
      "Number: 8 The number is even.\n",
      "Number: 9 The number is odd.\n",
      "Number: 10 The number is even.\n",
      "Number: 11 The number is odd.\n",
      "Number: 12 The number is even.\n",
      "Number: 13 The number is odd.\n",
      "Number: 14 The number is even.\n",
      "Number: 15 The number is odd.\n",
      "Number: 16 The number is even.\n",
      "Number: 17 The number is odd.\n",
      "Number: 18 The number is even.\n",
      "Number: 19 The number is odd.\n",
      "Number: 20 The number is even.\n"
     ]
    }
   ],
   "source": [
    "for i in range(1, 21):\n",
    "    if i % 2 == 0:\n",
    "        print('Number:', str(i), 'The number is even.')\n",
    "    else:\n",
    "        print('Number:', str(i), 'The number is odd.')\n",
    "        "
   ]
  },
  {
   "attachments": {},
   "cell_type": "markdown",
   "metadata": {},
   "source": [
    "4) En un ciclo for mostrar para los valores entre 0 y 5 el resultado de elevarlo a la potencia igual a 3"
   ]
  },
  {
   "cell_type": "code",
   "execution_count": 23,
   "metadata": {},
   "outputs": [
    {
     "name": "stdout",
     "output_type": "stream",
     "text": [
      "i^3  Result= 0\n",
      "i^3  Result= 1\n",
      "i^3  Result= 8\n",
      "i^3  Result= 27\n",
      "i^3  Result= 64\n",
      "i^3  Result= 125\n"
     ]
    }
   ],
   "source": [
    "for i in range(6):\n",
    "    r=i**3\n",
    "    print('i^3 ', 'Result=', r)"
   ]
  },
  {
   "cell_type": "code",
   "execution_count": 8,
   "metadata": {},
   "outputs": [
    {
     "name": "stdout",
     "output_type": "stream",
     "text": [
      "El valor de: 0 Elevado a la 3ra potencia es: 0\n",
      "El valor de: 1 Elevado a la 3ra potencia es: 1\n",
      "El valor de: 2 Elevado a la 3ra potencia es: 8\n",
      "El valor de: 3 Elevado a la 3ra potencia es: 27\n",
      "El valor de: 4 Elevado a la 3ra potencia es: 64\n",
      "El valor de: 5 Elevado a la 3ra potencia es: 125\n"
     ]
    }
   ],
   "source": [
    "for i in range(0,6):\n",
    "    print('El valor de:', str(i), 'Elevado a la 3ra potencia es:', str(i**3))\n",
    "    \n"
   ]
  },
  {
   "attachments": {},
   "cell_type": "markdown",
   "metadata": {},
   "source": [
    "5) Crear una variable que contenga un número entero y realizar un ciclo for la misma cantidad de ciclos"
   ]
  },
  {
   "cell_type": "code",
   "execution_count": 10,
   "metadata": {},
   "outputs": [
    {
     "name": "stdout",
     "output_type": "stream",
     "text": [
      "9\n",
      "8\n",
      "7\n",
      "6\n",
      "5\n",
      "4\n",
      "3\n",
      "2\n",
      "1\n",
      "0\n"
     ]
    }
   ],
   "source": [
    "x = 10\n",
    "\n",
    "while True:\n",
    "    x-=1\n",
    "    print(x)\n",
    "    if x==0:\n",
    "        break"
   ]
  },
  {
   "cell_type": "code",
   "execution_count": 10,
   "metadata": {},
   "outputs": [
    {
     "name": "stdout",
     "output_type": "stream",
     "text": [
      "11\n"
     ]
    }
   ],
   "source": [
    "n = 12\n",
    "for i in range(0, n):\n",
    "    pass\n",
    "print(i)\n"
   ]
  },
  {
   "attachments": {},
   "cell_type": "markdown",
   "metadata": {},
   "source": [
    "6) Utilizar un ciclo while para realizar el factorial de un número guardado en una variable, sólo si la variable contiene un número entero mayor a 0"
   ]
  },
  {
   "cell_type": "code",
   "execution_count": 186,
   "metadata": {},
   "outputs": [
    {
     "name": "stdout",
     "output_type": "stream",
     "text": [
      "The factorial of 0 is 1\n",
      "The factorial of 1 is 1\n",
      "The factorial of 2 is 2\n",
      "The factorial of 3 is 6\n",
      "The factorial of 4 is 24\n",
      "The factorial of 5 is 120\n",
      "The factorial of 6 is 720\n",
      "The factorial of 7 is 5040\n",
      "The factorial of 8 is 40320\n",
      "The factorial of 9 is 362880\n",
      "The factorial of 10 is 3628800\n",
      "The factorial of 11 is 39916800\n",
      "The factorial of 12 is 479001600\n",
      "The factorial of 13 is 6227020800\n",
      "The factorial of 14 is 87178291200\n",
      "The factorial of 15 is 1307674368000\n"
     ]
    }
   ],
   "source": [
    "def factorial(n):\n",
    "    result = 1\n",
    "    i = 1\n",
    "    while i <= n:\n",
    "        result *= i\n",
    "        i += 1\n",
    "    return result\n",
    "\n",
    "x = 15\n",
    "i = 0\n",
    "\n",
    "while x >= 0:\n",
    "    fact = factorial(i)\n",
    "    print(f'The factorial of {i} is {fact}')\n",
    "    i += 1\n",
    "    if x < i:\n",
    "        break  "
   ]
  },
  {
   "cell_type": "code",
   "execution_count": 11,
   "metadata": {},
   "outputs": [
    {
     "name": "stdout",
     "output_type": "stream",
     "text": [
      "El factorial es 120\n"
     ]
    }
   ],
   "source": [
    "n=5\n",
    "\n",
    "if type(n) == int:\n",
    "    if n > 0:\n",
    "        factorial = n\n",
    "        while n > 2:\n",
    "            n = n - 1\n",
    "            factorial = factorial * n\n",
    "        print('El factorial es', factorial)\n",
    "    else:\n",
    "        print('La variable no es mayor a cero')\n",
    "else:\n",
    "    print('La variable no es un entero')\n",
    "    "
   ]
  },
  {
   "cell_type": "code",
   "execution_count": 13,
   "metadata": {},
   "outputs": [
    {
     "name": "stdout",
     "output_type": "stream",
     "text": [
      "120\n"
     ]
    }
   ],
   "source": [
    "numero = 5\n",
    "factorial = 1\n",
    "\n",
    "for i in range(2, numero+1):\n",
    "    factorial = i * factorial\n",
    "print(factorial)\n"
   ]
  },
  {
   "attachments": {},
   "cell_type": "markdown",
   "metadata": {},
   "source": [
    "7) Crear un ciclo for dentro de un ciclo while"
   ]
  },
  {
   "cell_type": "code",
   "execution_count": 200,
   "metadata": {},
   "outputs": [
    {
     "name": "stdout",
     "output_type": "stream",
     "text": [
      "The factorial of 0 is 1\n",
      "The factorial of 1 is 1\n",
      "The factorial of 2 is 2\n",
      "The factorial of 3 is 6\n",
      "The factorial of 4 is 24\n",
      "The factorial of 5 is 120\n",
      "The factorial of 6 is 720\n",
      "The factorial of 7 is 5040\n",
      "The factorial of 8 is 40320\n",
      "The factorial of 9 is 362880\n",
      "The factorial of 10 is 3628800\n"
     ]
    }
   ],
   "source": [
    "def factorial(n):\n",
    "    result = 1\n",
    "    i = 1\n",
    "    while i <= n:\n",
    "        result *= i\n",
    "        i += 1\n",
    "    return result\n",
    "\n",
    "x = 0\n",
    "fact = 1\n",
    "\n",
    "while x <= 10:\n",
    "    for i in range(0, x+1):\n",
    "        fact = factorial(i)\n",
    "    print(f'The factorial of {i} is {fact}')\n",
    "    x += 1\n"
   ]
  },
  {
   "cell_type": "code",
   "execution_count": 23,
   "metadata": {},
   "outputs": [
    {
     "name": "stdout",
     "output_type": "stream",
     "text": [
      "Ciclo while # 1\n",
      "Ciclo for # 1\n",
      "Ciclo while # 2\n",
      "Ciclo for # 1\n",
      "Ciclo for # 2\n",
      "Ciclo while # 3\n",
      "Ciclo for # 1\n",
      "Ciclo for # 2\n",
      "Ciclo for # 3\n",
      "Ciclo while # 4\n",
      "Ciclo for # 1\n",
      "Ciclo for # 2\n",
      "Ciclo for # 3\n",
      "Ciclo for # 4\n"
     ]
    }
   ],
   "source": [
    "n = 1\n",
    "\n",
    "while n < 5:\n",
    "    print('Ciclo while # ' + str(n))\n",
    "    for i in range(1, n+1):\n",
    "        print('Ciclo for # ' + str(i))\n",
    "    n += 1\n"
   ]
  },
  {
   "attachments": {},
   "cell_type": "markdown",
   "metadata": {},
   "source": [
    "8) Crear un ciclo while dentro de un ciclo for"
   ]
  },
  {
   "cell_type": "code",
   "execution_count": 184,
   "metadata": {},
   "outputs": [
    {
     "name": "stdout",
     "output_type": "stream",
     "text": [
      "1 0\n",
      "1 1\n",
      "1 2\n",
      "1 3\n",
      "1 4\n",
      "1 5\n",
      "2 0\n",
      "2 1\n",
      "2 2\n",
      "2 3\n",
      "2 4\n",
      "2 5\n",
      "3 0\n",
      "3 1\n",
      "3 2\n",
      "3 3\n",
      "3 4\n",
      "3 5\n"
     ]
    }
   ],
   "source": [
    "for i in range(1, 4):\n",
    "    count = 0\n",
    "    while count < 6:\n",
    "        print(i, count)\n",
    "        count += 1\n"
   ]
  },
  {
   "attachments": {},
   "cell_type": "markdown",
   "metadata": {},
   "source": [
    "9) Imprimir los números primos existentes entre 0 y 30"
   ]
  },
  {
   "cell_type": "code",
   "execution_count": 205,
   "metadata": {},
   "outputs": [
    {
     "name": "stdout",
     "output_type": "stream",
     "text": [
      "2\n",
      "3\n",
      "5\n",
      "7\n",
      "11\n",
      "13\n",
      "17\n",
      "19\n",
      "23\n",
      "29\n"
     ]
    }
   ],
   "source": [
    "def is_prime(np):\n",
    "    if np <= 1:\n",
    "        return False\n",
    "    if np <= 3:\n",
    "        return True\n",
    "    if np % 2 == 0 or np % 3 == 0:\n",
    "        return False\n",
    "    i = 5\n",
    "    while i * i <= np:\n",
    "        if np % i == 0 or np % (i + 2) == 0:\n",
    "            return False\n",
    "        i += 6\n",
    "    return True\n",
    "for np in range(2, 31):\n",
    "    if is_prime(np):\n",
    "        print(np)\n"
   ]
  },
  {
   "cell_type": "code",
   "execution_count": 15,
   "metadata": {},
   "outputs": [
    {
     "name": "stdout",
     "output_type": "stream",
     "text": [
      "0\n",
      "1\n",
      "2\n",
      "3\n",
      "5\n",
      "7\n",
      "11\n",
      "13\n",
      "17\n",
      "19\n",
      "23\n",
      "29\n"
     ]
    }
   ],
   "source": [
    "tope_rango = 30\n",
    "n = 0\n",
    "primo = True\n",
    "\n",
    "while n < tope_rango:\n",
    "    for div in range(2, n):\n",
    "        if n % div == 0:\n",
    "            primo = False\n",
    "    if primo:\n",
    "        print(n)\n",
    "    else:\n",
    "        primo = True\n",
    "    n += 1\n"
   ]
  },
  {
   "attachments": {},
   "cell_type": "markdown",
   "metadata": {},
   "source": [
    "10) ¿Se puede mejorar el proceso del punto 9? Utilizar las sentencias break y/ó continue para tal fin"
   ]
  },
  {
   "cell_type": "code",
   "execution_count": 220,
   "metadata": {},
   "outputs": [
    {
     "name": "stdout",
     "output_type": "stream",
     "text": [
      "2\n",
      "3\n",
      "5\n",
      "7\n",
      "11\n",
      "13\n",
      "17\n",
      "19\n",
      "23\n",
      "29\n"
     ]
    }
   ],
   "source": [
    "# Si puede ser mejorado. Igualamente, la sentencia break puede ser utilizada\n",
    "max_np = 30\n",
    "\n",
    "for np in range(2, max_np + 1):\n",
    "    is_prime = True\n",
    "    for i in range(2, int(np**0.5) + 1):\n",
    "        if np % i == 0:\n",
    "            is_prime = False\n",
    "            break\n",
    "    if is_prime:\n",
    "        print(np)\n"
   ]
  },
  {
   "attachments": {},
   "cell_type": "markdown",
   "metadata": {},
   "source": [
    "11) En los puntos 9 y 10, se diseño un código que encuentra números primos y además se lo optimizó. ¿Es posible saber en qué medida se optimizó?"
   ]
  },
  {
   "cell_type": "code",
   "execution_count": 18,
   "metadata": {},
   "outputs": [
    {
     "name": "stdout",
     "output_type": "stream",
     "text": [
      "2\n",
      "3\n",
      "5\n",
      "7\n",
      "11\n",
      "13\n",
      "17\n",
      "19\n",
      "23\n",
      "29\n",
      "# loops:29\n"
     ]
    }
   ],
   "source": [
    "def is_prime(np):\n",
    "    if np <= 1:\n",
    "        return False\n",
    "    if np <= 3:\n",
    "        return True\n",
    "    if np % 2 == 0 or np % 3 == 0:\n",
    "        return False\n",
    "    i = 5\n",
    "    while i * i <= np:\n",
    "        if np % i == 0 or np % (i + 2) == 0:\n",
    "            return False\n",
    "        i += 6\n",
    "    return True\n",
    "\n",
    "loops_without_breaks = 0\n",
    "for np in range(2, 31):\n",
    "    loops_without_breaks += 1\n",
    "    if is_prime(np):\n",
    "        print(np)\n",
    "\n",
    "print('# loops:' + str(loops_without_breaks))\n"
   ]
  },
  {
   "cell_type": "code",
   "execution_count": 22,
   "metadata": {},
   "outputs": [
    {
     "name": "stdout",
     "output_type": "stream",
     "text": [
      "2\n",
      "3\n",
      "5\n",
      "7\n",
      "11\n",
      "13\n",
      "17\n",
      "19\n",
      "23\n",
      "29\n",
      "# loops:29\n",
      "Se optimizó a un 1.0 % de loops aplicando break\n"
     ]
    }
   ],
   "source": [
    "loops_with_breaks = 0\n",
    "max_np = 30\n",
    "\n",
    "for np in range(2, max_np + 1):\n",
    "    loops_with_breaks += 1\n",
    "    is_prime = True\n",
    "    for i in range(2, int(np**0.5) + 1):\n",
    "        if np % i == 0:\n",
    "            is_prime = False\n",
    "            break\n",
    "    if is_prime:\n",
    "        print(np)\n",
    "\n",
    "print('# loops:' + str(loops_with_breaks))\n",
    "\n",
    "print('Se optimizó a un ' + str(loops_with_breaks/loops_without_breaks) + ' % de loops aplicando break')"
   ]
  },
  {
   "attachments": {},
   "cell_type": "markdown",
   "metadata": {},
   "source": [
    "12) Aplicando continue, armar un ciclo while que solo imprima los valores divisibles por 12, dentro del rango de números de 100 a 300"
   ]
  },
  {
   "cell_type": "code",
   "execution_count": 30,
   "metadata": {},
   "outputs": [
    {
     "name": "stdout",
     "output_type": "stream",
     "text": [
      "108 es divisible por 12\n",
      "120 es divisible por 12\n",
      "132 es divisible por 12\n",
      "144 es divisible por 12\n",
      "156 es divisible por 12\n",
      "168 es divisible por 12\n",
      "180 es divisible por 12\n",
      "192 es divisible por 12\n",
      "204 es divisible por 12\n",
      "216 es divisible por 12\n",
      "228 es divisible por 12\n",
      "240 es divisible por 12\n",
      "252 es divisible por 12\n",
      "264 es divisible por 12\n",
      "276 es divisible por 12\n",
      "288 es divisible por 12\n",
      "300 es divisible por 12\n"
     ]
    }
   ],
   "source": [
    "n = 100\n",
    "\n",
    "while n <= 300:\n",
    "    if n % 12 != 0:\n",
    "        n += 1\n",
    "        continue\n",
    "    print(n, 'es divisible por 12')\n",
    "    n += 1\n"
   ]
  },
  {
   "attachments": {},
   "cell_type": "markdown",
   "metadata": {},
   "source": [
    "13) Utilizar la función **input()** que permite hacer ingresos por teclado, para encontrar números primos y dar la opción al usario de buscar el siguiente"
   ]
  },
  {
   "cell_type": "code",
   "execution_count": 2,
   "metadata": {},
   "outputs": [
    {
     "name": "stdout",
     "output_type": "stream",
     "text": [
      "2\n",
      "3\n",
      "5\n",
      "7\n",
      "Se finaliza el proceso\n"
     ]
    }
   ],
   "source": [
    "def is_prime(n):\n",
    "    if n < 2:\n",
    "        return False\n",
    "    for i in range(2, int(n**0.5)+1):\n",
    "        if n % i == 0:\n",
    "            return False\n",
    "    return True\n",
    "\n",
    "n = 2\n",
    "\n",
    "while True:\n",
    "    if is_prime(n):\n",
    "        print(n)\n",
    "        sigue = input('Desea encontar el siguiente número primo? (Enter y for yes, any key for no): ')\n",
    "        if sigue != 'y':\n",
    "            print('Se finaliza el proceso')\n",
    "            break\n",
    "    n += 1\n"
   ]
  },
  {
   "attachments": {},
   "cell_type": "markdown",
   "metadata": {},
   "source": [
    "14) Crear un ciclo while que encuentre dentro del rango de 100 a 300 el primer número divisible por 3 y además múltiplo de 6"
   ]
  },
  {
   "cell_type": "code",
   "execution_count": 2,
   "metadata": {},
   "outputs": [
    {
     "name": "stdout",
     "output_type": "stream",
     "text": [
      "102\n"
     ]
    }
   ],
   "source": [
    "n36 = 100\n",
    "\n",
    "while n36 <= 300:\n",
    "    if n36 % 3 == 0 and n36 % 6 ==0:\n",
    "        print(n36)\n",
    "        break\n",
    "    n36 += 1\n",
    "    "
   ]
  }
 ],
 "metadata": {
  "interpreter": {
   "hash": "c85384e4cb51c8b72350f3a8712cc8351fdc3955e32a27f9b60c6242ab125f01"
  },
  "kernelspec": {
   "display_name": "Python 3 (ipykernel)",
   "language": "python",
   "name": "python3"
  },
  "language_info": {
   "codemirror_mode": {
    "name": "ipython",
    "version": 3
   },
   "file_extension": ".py",
   "mimetype": "text/x-python",
   "name": "python",
   "nbconvert_exporter": "python",
   "pygments_lexer": "ipython3",
   "version": "3.12.0"
  }
 },
 "nbformat": 4,
 "nbformat_minor": 4
}
