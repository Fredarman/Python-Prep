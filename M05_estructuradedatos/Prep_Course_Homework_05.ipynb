{
 "cells": [
  {
   "attachments": {},
   "cell_type": "markdown",
   "metadata": {},
   "source": [
    "## Estructuras de Datos"
   ]
  },
  {
   "attachments": {},
   "cell_type": "markdown",
   "metadata": {},
   "source": [
    "1) Crear una lista que contenga nombres de ciudades del mundo que contenga más de 5 elementos e imprimir por pantalla"
   ]
  },
  {
   "cell_type": "code",
   "execution_count": 155,
   "metadata": {},
   "outputs": [
    {
     "name": "stdout",
     "output_type": "stream",
     "text": [
      "['Perth', 'Gjøvik', 'Bucaramanga', 'Kyoto', 'Caracas', 'Sao Paulo', 'Bern']\n"
     ]
    }
   ],
   "source": [
    "Cities = ['Perth','Gjøvik','Bucaramanga','Kyoto','Caracas','Sao Paulo','Bern']\n",
    "print(Cities)"
   ]
  },
  {
   "attachments": {},
   "cell_type": "markdown",
   "metadata": {},
   "source": [
    "2) Imprimir por pantalla el segundo elemento de la lista"
   ]
  },
  {
   "cell_type": "code",
   "execution_count": 156,
   "metadata": {},
   "outputs": [
    {
     "data": {
      "text/plain": [
       "'Gjøvik'"
      ]
     },
     "execution_count": 156,
     "metadata": {},
     "output_type": "execute_result"
    }
   ],
   "source": [
    "Cities[1]"
   ]
  },
  {
   "attachments": {},
   "cell_type": "markdown",
   "metadata": {},
   "source": [
    "3) Imprimir por pantalla del segundo al cuarto elemento"
   ]
  },
  {
   "cell_type": "code",
   "execution_count": 157,
   "metadata": {},
   "outputs": [
    {
     "data": {
      "text/plain": [
       "['Gjøvik', 'Bucaramanga', 'Kyoto']"
      ]
     },
     "execution_count": 157,
     "metadata": {},
     "output_type": "execute_result"
    }
   ],
   "source": [
    "Cities[1:4]"
   ]
  },
  {
   "attachments": {},
   "cell_type": "markdown",
   "metadata": {},
   "source": [
    "4) Visualizar el tipo de dato de la lista"
   ]
  },
  {
   "cell_type": "code",
   "execution_count": 158,
   "metadata": {},
   "outputs": [
    {
     "name": "stdout",
     "output_type": "stream",
     "text": [
      "<class 'list'>\n",
      "---------------\n",
      "<class 'str'>\n",
      "<class 'str'>\n",
      "<class 'str'>\n",
      "<class 'str'>\n",
      "<class 'str'>\n",
      "<class 'str'>\n",
      "<class 'str'>\n"
     ]
    }
   ],
   "source": [
    "print(type(Cities))\n",
    "print('---------------')\n",
    "\n",
    "for element in Cities:\n",
    "    print(type(element))"
   ]
  },
  {
   "attachments": {},
   "cell_type": "markdown",
   "metadata": {},
   "source": [
    "5) Visualizar todos los elementos de la lista a partir del tercero de manera genérica, es decir, sin explicitar la posición del último elemento"
   ]
  },
  {
   "cell_type": "code",
   "execution_count": 159,
   "metadata": {},
   "outputs": [
    {
     "data": {
      "text/plain": [
       "['Bucaramanga', 'Kyoto', 'Caracas', 'Sao Paulo', 'Bern']"
      ]
     },
     "execution_count": 159,
     "metadata": {},
     "output_type": "execute_result"
    }
   ],
   "source": [
    "Cities[2:]"
   ]
  },
  {
   "attachments": {},
   "cell_type": "markdown",
   "metadata": {},
   "source": [
    "6) Visualizar los primeros 4 elementos de la lista"
   ]
  },
  {
   "cell_type": "code",
   "execution_count": 160,
   "metadata": {},
   "outputs": [
    {
     "data": {
      "text/plain": [
       "['Perth', 'Gjøvik', 'Bucaramanga', 'Kyoto']"
      ]
     },
     "execution_count": 160,
     "metadata": {},
     "output_type": "execute_result"
    }
   ],
   "source": [
    "Cities[:4]"
   ]
  },
  {
   "attachments": {},
   "cell_type": "markdown",
   "metadata": {},
   "source": [
    "7) Agregar una ciudad más a la lista que ya exista y otra que no ¿Arroja algún tipo de error?"
   ]
  },
  {
   "cell_type": "code",
   "execution_count": 161,
   "metadata": {},
   "outputs": [
    {
     "name": "stdout",
     "output_type": "stream",
     "text": [
      "['Perth', 'Gjøvik', 'Bucaramanga', 'Kyoto', 'Caracas', 'Sao Paulo', 'Bern', 'Buenos Aires', 'Sao Paulo']\n"
     ]
    }
   ],
   "source": [
    "Cities.append('Buenos Aires')\n",
    "Cities.append('Sao Paulo')\n",
    "print(Cities) # No arroja ningún error"
   ]
  },
  {
   "attachments": {},
   "cell_type": "markdown",
   "metadata": {},
   "source": [
    "8) Agregar otra ciudad, pero en la cuarta posición"
   ]
  },
  {
   "cell_type": "code",
   "execution_count": 162,
   "metadata": {},
   "outputs": [
    {
     "name": "stdout",
     "output_type": "stream",
     "text": [
      "['Perth', 'Gjøvik', 'Bucaramanga', 'Paris', 'Kyoto', 'Caracas', 'Sao Paulo', 'Bern', 'Buenos Aires', 'Sao Paulo']\n"
     ]
    }
   ],
   "source": [
    "Cities.insert(3,'Paris')\n",
    "print(Cities)"
   ]
  },
  {
   "attachments": {},
   "cell_type": "markdown",
   "metadata": {},
   "source": [
    "9) Concatenar otra lista a la ya creada"
   ]
  },
  {
   "cell_type": "code",
   "execution_count": 163,
   "metadata": {},
   "outputs": [
    {
     "name": "stdout",
     "output_type": "stream",
     "text": [
      "['Perth', 'Gjøvik', 'Bucaramanga', 'Paris', 'Kyoto', 'Caracas', 'Sao Paulo', 'Bern', 'Buenos Aires', 'Sao Paulo', 'Football', 'Beauty', 'Art', 'Magic', 'Love', 'Future', 'Live']\n"
     ]
    }
   ],
   "source": [
    "Cities.extend(['Football','Beauty','Art','Magic','Love','Future','Live'])\n",
    "print(Cities)"
   ]
  },
  {
   "attachments": {},
   "cell_type": "markdown",
   "metadata": {},
   "source": [
    "10) Encontrar el índice de la ciudad que en el punto 7 agregamos duplicada. ¿Se nota alguna particularidad?"
   ]
  },
  {
   "cell_type": "code",
   "execution_count": 164,
   "metadata": {},
   "outputs": [
    {
     "data": {
      "text/plain": [
       "6"
      ]
     },
     "execution_count": 164,
     "metadata": {},
     "output_type": "execute_result"
    }
   ],
   "source": [
    "Cities.index('Sao Paulo') # Muestra el indice de la primera aparicion del elemento en la lista."
   ]
  },
  {
   "attachments": {},
   "cell_type": "markdown",
   "metadata": {},
   "source": [
    "11) ¿Qué pasa si se busca un elemento que no existe?"
   ]
  },
  {
   "cell_type": "code",
   "execution_count": 165,
   "metadata": {},
   "outputs": [
    {
     "ename": "ValueError",
     "evalue": "'Roma' is not in list",
     "output_type": "error",
     "traceback": [
      "\u001b[1;31m---------------------------------------------------------------------------\u001b[0m",
      "\u001b[1;31mValueError\u001b[0m                                Traceback (most recent call last)",
      "Cell \u001b[1;32mIn[165], line 1\u001b[0m\n\u001b[1;32m----> 1\u001b[0m \u001b[43mCities\u001b[49m\u001b[38;5;241;43m.\u001b[39;49m\u001b[43mindex\u001b[49m\u001b[43m(\u001b[49m\u001b[38;5;124;43m'\u001b[39;49m\u001b[38;5;124;43mRoma\u001b[39;49m\u001b[38;5;124;43m'\u001b[39;49m\u001b[43m)\u001b[49m \u001b[38;5;66;03m# Arroja error.\u001b[39;00m\n",
      "\u001b[1;31mValueError\u001b[0m: 'Roma' is not in list"
     ]
    }
   ],
   "source": [
    "Cities.index('Roma') # Arroja error."
   ]
  },
  {
   "attachments": {},
   "cell_type": "markdown",
   "metadata": {},
   "source": [
    "12) Eliminar un elemento de la lista"
   ]
  },
  {
   "cell_type": "code",
   "execution_count": 166,
   "metadata": {},
   "outputs": [
    {
     "name": "stdout",
     "output_type": "stream",
     "text": [
      "['Perth', 'Gjøvik', 'Bucaramanga', 'Paris', 'Kyoto', 'Caracas', 'Bern', 'Buenos Aires', 'Sao Paulo', 'Football', 'Beauty', 'Art', 'Magic', 'Love', 'Future', 'Live']\n"
     ]
    }
   ],
   "source": [
    "Cities.remove('Sao Paulo')\n",
    "print(Cities) # Borró solo la primera aparición del elemento en la lista."
   ]
  },
  {
   "attachments": {},
   "cell_type": "markdown",
   "metadata": {},
   "source": [
    "13) ¿Qué pasa si el elemento a eliminar no existe?"
   ]
  },
  {
   "cell_type": "code",
   "execution_count": 168,
   "metadata": {},
   "outputs": [
    {
     "ename": "ValueError",
     "evalue": "list.remove(x): x not in list",
     "output_type": "error",
     "traceback": [
      "\u001b[1;31m---------------------------------------------------------------------------\u001b[0m",
      "\u001b[1;31mValueError\u001b[0m                                Traceback (most recent call last)",
      "Cell \u001b[1;32mIn[168], line 1\u001b[0m\n\u001b[1;32m----> 1\u001b[0m \u001b[43mCities\u001b[49m\u001b[38;5;241;43m.\u001b[39;49m\u001b[43mremove\u001b[49m\u001b[43m(\u001b[49m\u001b[38;5;124;43m'\u001b[39;49m\u001b[38;5;124;43mBerlin\u001b[39;49m\u001b[38;5;124;43m'\u001b[39;49m\u001b[43m)\u001b[49m\n\u001b[0;32m      2\u001b[0m \u001b[38;5;28mprint\u001b[39m(Cities) \u001b[38;5;66;03m# Arroja error.\u001b[39;00m\n",
      "\u001b[1;31mValueError\u001b[0m: list.remove(x): x not in list"
     ]
    }
   ],
   "source": [
    "Cities.remove('Berlin')\n",
    "print(Cities) # Arroja error."
   ]
  },
  {
   "attachments": {},
   "cell_type": "markdown",
   "metadata": {},
   "source": [
    "14) Extraer el úlimo elemento de la lista, guardarlo en una variable e imprimirlo"
   ]
  },
  {
   "cell_type": "code",
   "execution_count": 169,
   "metadata": {},
   "outputs": [
    {
     "name": "stdout",
     "output_type": "stream",
     "text": [
      "['Perth', 'Gjøvik', 'Bucaramanga', 'Paris', 'Kyoto', 'Caracas', 'Bern', 'Buenos Aires', 'Sao Paulo', 'Football', 'Beauty', 'Art', 'Magic', 'Love', 'Future']\n",
      "----------\n",
      "Live\n"
     ]
    }
   ],
   "source": [
    "Last = Cities.pop()\n",
    "print(Cities)\n",
    "print('----------')\n",
    "print(Last)"
   ]
  },
  {
   "attachments": {},
   "cell_type": "markdown",
   "metadata": {},
   "source": [
    "15) Mostrar la lista multiplicada por 4"
   ]
  },
  {
   "cell_type": "code",
   "execution_count": 170,
   "metadata": {},
   "outputs": [
    {
     "name": "stdout",
     "output_type": "stream",
     "text": [
      "['Perth', 'Gjøvik', 'Bucaramanga', 'Paris', 'Kyoto', 'Caracas', 'Bern', 'Buenos Aires', 'Sao Paulo', 'Football', 'Beauty', 'Art', 'Magic', 'Love', 'Future', 'Perth', 'Gjøvik', 'Bucaramanga', 'Paris', 'Kyoto', 'Caracas', 'Bern', 'Buenos Aires', 'Sao Paulo', 'Football', 'Beauty', 'Art', 'Magic', 'Love', 'Future', 'Perth', 'Gjøvik', 'Bucaramanga', 'Paris', 'Kyoto', 'Caracas', 'Bern', 'Buenos Aires', 'Sao Paulo', 'Football', 'Beauty', 'Art', 'Magic', 'Love', 'Future', 'Perth', 'Gjøvik', 'Bucaramanga', 'Paris', 'Kyoto', 'Caracas', 'Bern', 'Buenos Aires', 'Sao Paulo', 'Football', 'Beauty', 'Art', 'Magic', 'Love', 'Future']\n"
     ]
    }
   ],
   "source": [
    "print(Cities*4)"
   ]
  },
  {
   "attachments": {},
   "cell_type": "markdown",
   "metadata": {},
   "source": [
    "16) Crear una tupla que contenga los números enteros del 1 al 20"
   ]
  },
  {
   "cell_type": "code",
   "execution_count": 171,
   "metadata": {},
   "outputs": [],
   "source": [
    "Tuple_ne = (1,2,3,4,5,6,7,8,9,10,11,12,13,14,15,16,17,18,19,20)"
   ]
  },
  {
   "attachments": {},
   "cell_type": "markdown",
   "metadata": {},
   "source": [
    "17) Imprimir desde el índice 10 al 15 de la tupla"
   ]
  },
  {
   "cell_type": "code",
   "execution_count": 172,
   "metadata": {},
   "outputs": [
    {
     "name": "stdout",
     "output_type": "stream",
     "text": [
      "(11, 12, 13, 14, 15, 16)\n"
     ]
    }
   ],
   "source": [
    "print(Tuple_ne[10:16])"
   ]
  },
  {
   "attachments": {},
   "cell_type": "markdown",
   "metadata": {},
   "source": [
    "18) Evaluar si los números 20 y 30 están dentro de la tupla"
   ]
  },
  {
   "cell_type": "code",
   "execution_count": 173,
   "metadata": {},
   "outputs": [
    {
     "name": "stdout",
     "output_type": "stream",
     "text": [
      "True\n",
      "False\n"
     ]
    }
   ],
   "source": [
    "print(20 in Tuple_ne)\n",
    "print(30 in Tuple_ne)"
   ]
  },
  {
   "attachments": {},
   "cell_type": "markdown",
   "metadata": {},
   "source": [
    "19) Con la lista creada en el punto 1, validar la existencia del elemento 'París' y si no existe, agregarlo. Utilizar una variable e informar lo sucedido."
   ]
  },
  {
   "cell_type": "code",
   "execution_count": 174,
   "metadata": {},
   "outputs": [
    {
     "name": "stdout",
     "output_type": "stream",
     "text": [
      "The city Paris is already on the list\n"
     ]
    }
   ],
   "source": [
    "New_city = 'Paris'\n",
    "if not New_city in Cities:\n",
    "    Cities.append(New_city)\n",
    "    print('The new city', New_city, 'has been added to the list')\n",
    "else:\n",
    "    print('The city', New_city, 'is already on the list')\n",
    "    "
   ]
  },
  {
   "attachments": {},
   "cell_type": "markdown",
   "metadata": {},
   "source": [
    "20) Mostrar la cantidad de veces que se encuentra un elemento específico dentro de la tupla y de la lista"
   ]
  },
  {
   "cell_type": "code",
   "execution_count": 175,
   "metadata": {},
   "outputs": [
    {
     "name": "stdout",
     "output_type": "stream",
     "text": [
      "<class 'tuple'>\n",
      "---------------\n",
      "<class 'list'>\n"
     ]
    }
   ],
   "source": [
    "\n",
    "Tuple_cities = ('Perth', 'Gjøvik', 'Bucaramanga', 'Paris', 'Kyoto', 'Caracas', 'Bern', 'Buenos Aires', 'Sao Paulo', 'Football', 'Beauty', 'Art', 'Magic', 'Love', 'Future', 'Perth', 'Gjøvik', 'Bucaramanga', 'Paris', 'Kyoto', 'Caracas', 'Bern', 'Buenos Aires', 'Sao Paulo', 'Football', 'Beauty', 'Art', 'Magic', 'Love', 'Future', 'Perth', 'Gjøvik', 'Bucaramanga', 'Paris', 'Kyoto', 'Caracas', 'Bern', 'Buenos Aires', 'Sao Paulo', 'Football', 'Beauty', 'Art', 'Magic', 'Love', 'Future', 'Perth', 'Gjøvik', 'Bucaramanga', 'Paris', 'Kyoto', 'Caracas', 'Bern', 'Buenos Aires', 'Sao Paulo', 'Football', 'Beauty', 'Art', 'Magic', 'Love', 'Future')\n",
    "\n",
    "Cities = ['Perth', 'Gjøvik', 'Bucaramanga', 'Paris', 'Kyoto', 'Caracas', 'Bern', 'Buenos Aires', 'Sao Paulo', 'Football', 'Beauty', 'Art', 'Magic', 'Love', 'Future', 'Perth', 'Gjøvik', 'Bucaramanga', 'Paris', 'Kyoto', 'Caracas', 'Bern', 'Buenos Aires', 'Sao Paulo', 'Football', 'Beauty', 'Art', 'Magic', 'Love', 'Future', 'Perth', 'Gjøvik', 'Bucaramanga', 'Paris', 'Kyoto', 'Caracas', 'Bern', 'Buenos Aires', 'Sao Paulo', 'Football', 'Beauty', 'Art', 'Magic', 'Love', 'Future', 'Perth', 'Gjøvik', 'Bucaramanga', 'Paris', 'Kyoto', 'Caracas', 'Bern', 'Buenos Aires', 'Sao Paulo', 'Football', 'Beauty', 'Art', 'Magic', 'Love', 'Future']\n",
    "\n",
    "print(type(Tuple_cities))\n",
    "print('---------------')\n",
    "print(type(Cities))"
   ]
  },
  {
   "cell_type": "code",
   "execution_count": 176,
   "metadata": {},
   "outputs": [
    {
     "name": "stdout",
     "output_type": "stream",
     "text": [
      "4\n",
      "4\n"
     ]
    }
   ],
   "source": [
    "print(Tuple_cities.count('Sao Paulo'))\n",
    "print(Cities.count('Football'))"
   ]
  },
  {
   "attachments": {},
   "cell_type": "markdown",
   "metadata": {},
   "source": [
    "21) Convertir la tupla en una lista"
   ]
  },
  {
   "cell_type": "code",
   "execution_count": 177,
   "metadata": {},
   "outputs": [
    {
     "name": "stdout",
     "output_type": "stream",
     "text": [
      "['Perth', 'Gjøvik', 'Bucaramanga', 'Paris', 'Kyoto', 'Caracas', 'Bern', 'Buenos Aires', 'Sao Paulo', 'Football', 'Beauty', 'Art', 'Magic', 'Love', 'Future', 'Perth', 'Gjøvik', 'Bucaramanga', 'Paris', 'Kyoto', 'Caracas', 'Bern', 'Buenos Aires', 'Sao Paulo', 'Football', 'Beauty', 'Art', 'Magic', 'Love', 'Future', 'Perth', 'Gjøvik', 'Bucaramanga', 'Paris', 'Kyoto', 'Caracas', 'Bern', 'Buenos Aires', 'Sao Paulo', 'Football', 'Beauty', 'Art', 'Magic', 'Love', 'Future', 'Perth', 'Gjøvik', 'Bucaramanga', 'Paris', 'Kyoto', 'Caracas', 'Bern', 'Buenos Aires', 'Sao Paulo', 'Football', 'Beauty', 'Art', 'Magic', 'Love', 'Future']\n"
     ]
    },
    {
     "data": {
      "text/plain": [
       "list"
      ]
     },
     "execution_count": 177,
     "metadata": {},
     "output_type": "execute_result"
    }
   ],
   "source": [
    "List_cities = list(Tuple_cities)\n",
    "print(List_cities)\n",
    "type(List_cities)"
   ]
  },
  {
   "attachments": {},
   "cell_type": "markdown",
   "metadata": {},
   "source": [
    "22) Desempaquetar solo los primeros 3 elementos de la tupla en 3 variables"
   ]
  },
  {
   "cell_type": "code",
   "execution_count": 178,
   "metadata": {},
   "outputs": [
    {
     "name": "stdout",
     "output_type": "stream",
     "text": [
      "Roma / Paris / Madrid\n"
     ]
    }
   ],
   "source": [
    "Tuple_EU_Cities = ('Roma','Paris','Madrid')\n",
    "C1,C2,C3 = Tuple_EU_Cities\n",
    "print(C1,'/',C2,'/',C3)"
   ]
  },
  {
   "attachments": {},
   "cell_type": "markdown",
   "metadata": {},
   "source": [
    "23) Crear un diccionario utilizando la lista crada en el punto 1, asignandole la clave \"ciudad\". Agregar tambien otras claves, como puede ser \"Pais\" y \"Continente\"."
   ]
  },
  {
   "cell_type": "markdown",
   "metadata": {},
   "source": []
  },
  {
   "cell_type": "code",
   "execution_count": 179,
   "metadata": {},
   "outputs": [
    {
     "name": "stdout",
     "output_type": "stream",
     "text": [
      "{'Cities': ['Perth', 'Gjøvik', 'Bucaramanga', 'Kyoto', 'Caracas', 'Sao Paulo', 'Bern'], 'Countries': ['Australia', 'Norway', 'Colombia', 'Japan', 'Brasil', 'Switzerland'], 'Continents': ['Oceania', 'Europe', 'America']}\n"
     ]
    }
   ],
   "source": [
    "Cities_dict = {'Cities':['Perth', 'Gjøvik', 'Bucaramanga', 'Kyoto', 'Caracas', 'Sao Paulo', 'Bern'], 'Countries':['Australia','Norway','Colombia','Japan','Brasil','Switzerland'], 'Continents':['Oceania','Europe','America']}\n",
    "print(Cities_dict)"
   ]
  },
  {
   "attachments": {},
   "cell_type": "markdown",
   "metadata": {},
   "source": [
    "24) Imprimir las claves del diccionario"
   ]
  },
  {
   "cell_type": "code",
   "execution_count": 180,
   "metadata": {},
   "outputs": [
    {
     "name": "stdout",
     "output_type": "stream",
     "text": [
      "dict_keys(['Cities', 'Countries', 'Continents'])\n"
     ]
    }
   ],
   "source": [
    "print(Cities_dict.keys())"
   ]
  },
  {
   "attachments": {},
   "cell_type": "markdown",
   "metadata": {},
   "source": [
    "25) Imprimir las ciudades a través de su clave"
   ]
  },
  {
   "cell_type": "code",
   "execution_count": 181,
   "metadata": {},
   "outputs": [
    {
     "name": "stdout",
     "output_type": "stream",
     "text": [
      "['Perth', 'Gjøvik', 'Bucaramanga', 'Kyoto', 'Caracas', 'Sao Paulo', 'Bern']\n"
     ]
    }
   ],
   "source": [
    "print(Cities_dict['Cities'])"
   ]
  }
 ],
 "metadata": {
  "interpreter": {
   "hash": "c85384e4cb51c8b72350f3a8712cc8351fdc3955e32a27f9b60c6242ab125f01"
  },
  "kernelspec": {
   "display_name": "Python 3 (ipykernel)",
   "language": "python",
   "name": "python3"
  },
  "language_info": {
   "codemirror_mode": {
    "name": "ipython",
    "version": 3
   },
   "file_extension": ".py",
   "mimetype": "text/x-python",
   "name": "python",
   "nbconvert_exporter": "python",
   "pygments_lexer": "ipython3",
   "version": "3.12.0"
  }
 },
 "nbformat": 4,
 "nbformat_minor": 4
}
